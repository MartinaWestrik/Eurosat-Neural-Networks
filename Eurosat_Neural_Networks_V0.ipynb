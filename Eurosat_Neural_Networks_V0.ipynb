{
  "nbformat": 4,
  "nbformat_minor": 0,
  "metadata": {
    "colab": {
      "provenance": [],
      "toc_visible": true,
      "gpuType": "T4",
      "include_colab_link": true
    },
    "kernelspec": {
      "name": "python3",
      "display_name": "Python 3"
    },
    "language_info": {
      "name": "python"
    },
    "accelerator": "GPU"
  },
  "cells": [
    {
      "cell_type": "markdown",
      "metadata": {
        "id": "view-in-github",
        "colab_type": "text"
      },
      "source": [
        "<a href=\"https://colab.research.google.com/github/MartinaWestrik/Eurosat-Neural-Networks/blob/EuroSAT_vlastni_model/Eurosat_Neural_Networks_V0.ipynb\" target=\"_parent\"><img src=\"https://colab.research.google.com/assets/colab-badge.svg\" alt=\"Open In Colab\"/></a>"
      ]
    },
    {
      "cell_type": "markdown",
      "source": [
        "#INFO O PROJEKTU\n",
        "**Cílem** projektu je vytrénování modelu, který na základě analýzy datasetu 27000 satelitních snímků ze zařízení Sentinel2 rozpoznává 10 druhů tříd land use - využití půdy, např. pole, pastvina, dálnice, jezera, řeky, zastavěné území, průmyslová zóna apod. Snímky mají po úpravě ze 13 spektrálního nastavení (EuroSATallBands, *tif) pouze tříbarvené kanály (RGB), rozměry 64x64 pixelů (EuroSAT, *.jpg) Projekt jsme si vybrali na https://www.kaggle.com/datasets/apollo2506/eurosat-dataset, k sestavování modelu jsme využili zdejší kody, chatgpt, vzorový příklad na Colab - šachy.\n",
        "\n",
        "**Postup**\n",
        "\n",
        "Postavení vlastního modelu neuronové sítě a ladění parametrů (V0)\n",
        "\n",
        "Použití předtrénovaného modelu VGG16 (V1) a XXX (V2) pro efektivnější trénování.\n",
        "\n",
        "Vyhodnocení modelů pomocí přesnosti a konfuzní matice.\n"
      ],
      "metadata": {
        "id": "qsqF-HLzNkHn"
      }
    },
    {
      "cell_type": "markdown",
      "source": [
        "# NAČÍTÁNÍ KNIHOVEN"
      ],
      "metadata": {
        "id": "srB0iorfwM_y"
      }
    },
    {
      "cell_type": "code",
      "source": [
        "import kagglehub\n",
        "from kagglehub import KaggleDatasetAdapter\n",
        "\n",
        "import random\n",
        "import numpy as np                                                   #knihovna pro práci s maticovými daty\n",
        "import pandas as pd                                                  #knihovna pro práci s tabulkovými daty\n",
        "import os\n",
        "\n",
        "import matplotlib.pyplot as plt                                      #knihovna na vizualizaci                                                            #knihovna pro práci s adresáři\n",
        "from PIL import Image                                                #modul PythonImagineLibrary je součástí knihovny Pillow otevírání, úpravy a ukládání obrázků v různých formátech (JPEG, PNG, BMP, GIF atd.).\n",
        "\n",
        "from tensorflow.keras.preprocessing.image import ImageDataGenerator  #nástroj pro augmentaci - dávkuje načítání, generuje nové obrázky, normalizuje obrázky)\n",
        "from tensorflow.keras.callbacks import EarlyStopping                 #mechanismus bránící přeučení tím, že se zastaví, když se přestane model zlepšovat ve vybraných parametrech\n",
        "from tensorflow.keras.callbacks import ModelCheckpoint               #ukládá nejlepší verzi modelu, nejlepší váhy, při přerušení lze načíst poslední verzi a pokračovat z posledního checkpointu\n",
        "from tensorflow.keras.callbacks import ReduceLROnPlateau\n",
        "\n",
        "from tensorflow.keras.models import Sequential\n",
        "from tensorflow.keras.layers import Conv2D, MaxPooling2D, Flatten, Dense, Dropout, Input"
      ],
      "metadata": {
        "id": "lt58nUXJjn6G"
      },
      "execution_count": 95,
      "outputs": []
    },
    {
      "cell_type": "markdown",
      "source": [
        "# NAČTENÍ DAT\n"
      ],
      "metadata": {
        "id": "PRxPi5z5wRMi"
      }
    },
    {
      "cell_type": "code",
      "execution_count": 96,
      "metadata": {
        "colab": {
          "base_uri": "https://localhost:8080/"
        },
        "id": "CdprVzX6fzWJ",
        "outputId": "4f646c14-b5f2-4da2-ff3b-0f0ab9025989"
      },
      "outputs": [
        {
          "output_type": "stream",
          "name": "stdout",
          "text": [
            "Obsah datasetu:\n",
            "['EuroSATallBands', 'EuroSAT']\n"
          ]
        }
      ],
      "source": [
        "# Stažení aktuální verze dat z Kaggle\n",
        "path_to_download = kagglehub.dataset_download(\"apollo2506/eurosat-dataset\")\n",
        "print(\"Obsah datasetu:\")\n",
        "print(os.listdir(path_to_download))"
      ]
    },
    {
      "cell_type": "code",
      "source": [
        "# Vyhledání všech CSV souborů\n",
        "csv_files = []\n",
        "for root, dirs, files in os.walk(path_to_download):\n",
        "    for file in files:\n",
        "        if file.endswith(\".csv\"):\n",
        "            csv_files.append(os.path.join(root, file))\n",
        "\n",
        "# Výpis nalezených CSV souborů\n",
        "print(\"Nalezené CSV soubory:\\n\")\n",
        "for csv in csv_files:\n",
        "    print(csv)"
      ],
      "metadata": {
        "colab": {
          "base_uri": "https://localhost:8080/"
        },
        "id": "rd6bNv8Wm9Yg",
        "outputId": "9be76ac2-aa83-4b95-ab75-6b3e7b02849b"
      },
      "execution_count": 97,
      "outputs": [
        {
          "output_type": "stream",
          "name": "stdout",
          "text": [
            "Nalezené CSV soubory:\n",
            "\n",
            "/root/.cache/kagglehub/datasets/apollo2506/eurosat-dataset/versions/6/EuroSATallBands/test.csv\n",
            "/root/.cache/kagglehub/datasets/apollo2506/eurosat-dataset/versions/6/EuroSATallBands/train.csv\n",
            "/root/.cache/kagglehub/datasets/apollo2506/eurosat-dataset/versions/6/EuroSATallBands/validation.csv\n",
            "/root/.cache/kagglehub/datasets/apollo2506/eurosat-dataset/versions/6/EuroSAT/test.csv\n",
            "/root/.cache/kagglehub/datasets/apollo2506/eurosat-dataset/versions/6/EuroSAT/train.csv\n",
            "/root/.cache/kagglehub/datasets/apollo2506/eurosat-dataset/versions/6/EuroSAT/validation.csv\n"
          ]
        }
      ]
    },
    {
      "cell_type": "code",
      "source": [
        "# Načtení CSV souborů = landuse labelů -  do tabulek\n",
        "train_df = pd.read_csv(os.path.join(path_to_download, \"EuroSAT/train.csv\"))\n",
        "val_df = pd.read_csv(os.path.join(path_to_download, \"EuroSAT/validation.csv\"))\n",
        "test_df = pd.read_csv(os.path.join(path_to_download, \"EuroSAT/test.csv\"))"
      ],
      "metadata": {
        "id": "iXkdM9dS3mLI"
      },
      "execution_count": 98,
      "outputs": []
    },
    {
      "cell_type": "code",
      "source": [
        "# Přidání úplné cesty k obrázkům\n",
        "train_df[\"Filename\"] = train_df[\"Filename\"].apply(lambda x: os.path.join(path_to_download,\"EuroSAT\", x))\n",
        "val_df[\"Filename\"] = val_df[\"Filename\"].apply(lambda x: os.path.join(path_to_download,\"EuroSAT\", x))\n",
        "test_df[\"Filename\"] = test_df[\"Filename\"].apply(lambda x: os.path.join(path_to_download,\"EuroSAT\", x))\n"
      ],
      "metadata": {
        "id": "8fOunOLArSJT"
      },
      "execution_count": 99,
      "outputs": []
    },
    {
      "cell_type": "code",
      "source": [
        "# Zobrazení prvních 5 řádků jako tabulky\n",
        "print(\"Trénovací sada:\")\n",
        "display(train_df.head())  # Funguje jen v Jupyter Notebooku\n",
        "\n",
        "print(\"\\n Validační sada:\")\n",
        "display(val_df.head())\n",
        "\n",
        "print(\"\\n Testovací sada:\")\n",
        "display(test_df.head())"
      ],
      "metadata": {
        "colab": {
          "base_uri": "https://localhost:8080/",
          "height": 670
        },
        "id": "OUK2o0rFWwz6",
        "outputId": "d564329f-e393-4f94-a3b5-d76ea9063a89"
      },
      "execution_count": 100,
      "outputs": [
        {
          "output_type": "stream",
          "name": "stdout",
          "text": [
            "Trénovací sada:\n"
          ]
        },
        {
          "output_type": "display_data",
          "data": {
            "text/plain": [
              "   Unnamed: 0                                           Filename  Label  \\\n",
              "0       16257  /root/.cache/kagglehub/datasets/apollo2506/eur...      0   \n",
              "1        3297  /root/.cache/kagglehub/datasets/apollo2506/eur...      2   \n",
              "2       17881  /root/.cache/kagglehub/datasets/apollo2506/eur...      6   \n",
              "3        2223  /root/.cache/kagglehub/datasets/apollo2506/eur...      4   \n",
              "4        4887  /root/.cache/kagglehub/datasets/apollo2506/eur...      2   \n",
              "\n",
              "              ClassName  \n",
              "0            AnnualCrop  \n",
              "1  HerbaceousVegetation  \n",
              "2         PermanentCrop  \n",
              "3            Industrial  \n",
              "4  HerbaceousVegetation  "
            ],
            "text/html": [
              "\n",
              "  <div id=\"df-eec4374b-a6a1-4652-9de5-f8e01be1d20a\" class=\"colab-df-container\">\n",
              "    <div>\n",
              "<style scoped>\n",
              "    .dataframe tbody tr th:only-of-type {\n",
              "        vertical-align: middle;\n",
              "    }\n",
              "\n",
              "    .dataframe tbody tr th {\n",
              "        vertical-align: top;\n",
              "    }\n",
              "\n",
              "    .dataframe thead th {\n",
              "        text-align: right;\n",
              "    }\n",
              "</style>\n",
              "<table border=\"1\" class=\"dataframe\">\n",
              "  <thead>\n",
              "    <tr style=\"text-align: right;\">\n",
              "      <th></th>\n",
              "      <th>Unnamed: 0</th>\n",
              "      <th>Filename</th>\n",
              "      <th>Label</th>\n",
              "      <th>ClassName</th>\n",
              "    </tr>\n",
              "  </thead>\n",
              "  <tbody>\n",
              "    <tr>\n",
              "      <th>0</th>\n",
              "      <td>16257</td>\n",
              "      <td>/root/.cache/kagglehub/datasets/apollo2506/eur...</td>\n",
              "      <td>0</td>\n",
              "      <td>AnnualCrop</td>\n",
              "    </tr>\n",
              "    <tr>\n",
              "      <th>1</th>\n",
              "      <td>3297</td>\n",
              "      <td>/root/.cache/kagglehub/datasets/apollo2506/eur...</td>\n",
              "      <td>2</td>\n",
              "      <td>HerbaceousVegetation</td>\n",
              "    </tr>\n",
              "    <tr>\n",
              "      <th>2</th>\n",
              "      <td>17881</td>\n",
              "      <td>/root/.cache/kagglehub/datasets/apollo2506/eur...</td>\n",
              "      <td>6</td>\n",
              "      <td>PermanentCrop</td>\n",
              "    </tr>\n",
              "    <tr>\n",
              "      <th>3</th>\n",
              "      <td>2223</td>\n",
              "      <td>/root/.cache/kagglehub/datasets/apollo2506/eur...</td>\n",
              "      <td>4</td>\n",
              "      <td>Industrial</td>\n",
              "    </tr>\n",
              "    <tr>\n",
              "      <th>4</th>\n",
              "      <td>4887</td>\n",
              "      <td>/root/.cache/kagglehub/datasets/apollo2506/eur...</td>\n",
              "      <td>2</td>\n",
              "      <td>HerbaceousVegetation</td>\n",
              "    </tr>\n",
              "  </tbody>\n",
              "</table>\n",
              "</div>\n",
              "    <div class=\"colab-df-buttons\">\n",
              "\n",
              "  <div class=\"colab-df-container\">\n",
              "    <button class=\"colab-df-convert\" onclick=\"convertToInteractive('df-eec4374b-a6a1-4652-9de5-f8e01be1d20a')\"\n",
              "            title=\"Convert this dataframe to an interactive table.\"\n",
              "            style=\"display:none;\">\n",
              "\n",
              "  <svg xmlns=\"http://www.w3.org/2000/svg\" height=\"24px\" viewBox=\"0 -960 960 960\">\n",
              "    <path d=\"M120-120v-720h720v720H120Zm60-500h600v-160H180v160Zm220 220h160v-160H400v160Zm0 220h160v-160H400v160ZM180-400h160v-160H180v160Zm440 0h160v-160H620v160ZM180-180h160v-160H180v160Zm440 0h160v-160H620v160Z\"/>\n",
              "  </svg>\n",
              "    </button>\n",
              "\n",
              "  <style>\n",
              "    .colab-df-container {\n",
              "      display:flex;\n",
              "      gap: 12px;\n",
              "    }\n",
              "\n",
              "    .colab-df-convert {\n",
              "      background-color: #E8F0FE;\n",
              "      border: none;\n",
              "      border-radius: 50%;\n",
              "      cursor: pointer;\n",
              "      display: none;\n",
              "      fill: #1967D2;\n",
              "      height: 32px;\n",
              "      padding: 0 0 0 0;\n",
              "      width: 32px;\n",
              "    }\n",
              "\n",
              "    .colab-df-convert:hover {\n",
              "      background-color: #E2EBFA;\n",
              "      box-shadow: 0px 1px 2px rgba(60, 64, 67, 0.3), 0px 1px 3px 1px rgba(60, 64, 67, 0.15);\n",
              "      fill: #174EA6;\n",
              "    }\n",
              "\n",
              "    .colab-df-buttons div {\n",
              "      margin-bottom: 4px;\n",
              "    }\n",
              "\n",
              "    [theme=dark] .colab-df-convert {\n",
              "      background-color: #3B4455;\n",
              "      fill: #D2E3FC;\n",
              "    }\n",
              "\n",
              "    [theme=dark] .colab-df-convert:hover {\n",
              "      background-color: #434B5C;\n",
              "      box-shadow: 0px 1px 3px 1px rgba(0, 0, 0, 0.15);\n",
              "      filter: drop-shadow(0px 1px 2px rgba(0, 0, 0, 0.3));\n",
              "      fill: #FFFFFF;\n",
              "    }\n",
              "  </style>\n",
              "\n",
              "    <script>\n",
              "      const buttonEl =\n",
              "        document.querySelector('#df-eec4374b-a6a1-4652-9de5-f8e01be1d20a button.colab-df-convert');\n",
              "      buttonEl.style.display =\n",
              "        google.colab.kernel.accessAllowed ? 'block' : 'none';\n",
              "\n",
              "      async function convertToInteractive(key) {\n",
              "        const element = document.querySelector('#df-eec4374b-a6a1-4652-9de5-f8e01be1d20a');\n",
              "        const dataTable =\n",
              "          await google.colab.kernel.invokeFunction('convertToInteractive',\n",
              "                                                    [key], {});\n",
              "        if (!dataTable) return;\n",
              "\n",
              "        const docLinkHtml = 'Like what you see? Visit the ' +\n",
              "          '<a target=\"_blank\" href=https://colab.research.google.com/notebooks/data_table.ipynb>data table notebook</a>'\n",
              "          + ' to learn more about interactive tables.';\n",
              "        element.innerHTML = '';\n",
              "        dataTable['output_type'] = 'display_data';\n",
              "        await google.colab.output.renderOutput(dataTable, element);\n",
              "        const docLink = document.createElement('div');\n",
              "        docLink.innerHTML = docLinkHtml;\n",
              "        element.appendChild(docLink);\n",
              "      }\n",
              "    </script>\n",
              "  </div>\n",
              "\n",
              "\n",
              "<div id=\"df-0e71248f-caed-4b92-a78b-c47ddb282588\">\n",
              "  <button class=\"colab-df-quickchart\" onclick=\"quickchart('df-0e71248f-caed-4b92-a78b-c47ddb282588')\"\n",
              "            title=\"Suggest charts\"\n",
              "            style=\"display:none;\">\n",
              "\n",
              "<svg xmlns=\"http://www.w3.org/2000/svg\" height=\"24px\"viewBox=\"0 0 24 24\"\n",
              "     width=\"24px\">\n",
              "    <g>\n",
              "        <path d=\"M19 3H5c-1.1 0-2 .9-2 2v14c0 1.1.9 2 2 2h14c1.1 0 2-.9 2-2V5c0-1.1-.9-2-2-2zM9 17H7v-7h2v7zm4 0h-2V7h2v10zm4 0h-2v-4h2v4z\"/>\n",
              "    </g>\n",
              "</svg>\n",
              "  </button>\n",
              "\n",
              "<style>\n",
              "  .colab-df-quickchart {\n",
              "      --bg-color: #E8F0FE;\n",
              "      --fill-color: #1967D2;\n",
              "      --hover-bg-color: #E2EBFA;\n",
              "      --hover-fill-color: #174EA6;\n",
              "      --disabled-fill-color: #AAA;\n",
              "      --disabled-bg-color: #DDD;\n",
              "  }\n",
              "\n",
              "  [theme=dark] .colab-df-quickchart {\n",
              "      --bg-color: #3B4455;\n",
              "      --fill-color: #D2E3FC;\n",
              "      --hover-bg-color: #434B5C;\n",
              "      --hover-fill-color: #FFFFFF;\n",
              "      --disabled-bg-color: #3B4455;\n",
              "      --disabled-fill-color: #666;\n",
              "  }\n",
              "\n",
              "  .colab-df-quickchart {\n",
              "    background-color: var(--bg-color);\n",
              "    border: none;\n",
              "    border-radius: 50%;\n",
              "    cursor: pointer;\n",
              "    display: none;\n",
              "    fill: var(--fill-color);\n",
              "    height: 32px;\n",
              "    padding: 0;\n",
              "    width: 32px;\n",
              "  }\n",
              "\n",
              "  .colab-df-quickchart:hover {\n",
              "    background-color: var(--hover-bg-color);\n",
              "    box-shadow: 0 1px 2px rgba(60, 64, 67, 0.3), 0 1px 3px 1px rgba(60, 64, 67, 0.15);\n",
              "    fill: var(--button-hover-fill-color);\n",
              "  }\n",
              "\n",
              "  .colab-df-quickchart-complete:disabled,\n",
              "  .colab-df-quickchart-complete:disabled:hover {\n",
              "    background-color: var(--disabled-bg-color);\n",
              "    fill: var(--disabled-fill-color);\n",
              "    box-shadow: none;\n",
              "  }\n",
              "\n",
              "  .colab-df-spinner {\n",
              "    border: 2px solid var(--fill-color);\n",
              "    border-color: transparent;\n",
              "    border-bottom-color: var(--fill-color);\n",
              "    animation:\n",
              "      spin 1s steps(1) infinite;\n",
              "  }\n",
              "\n",
              "  @keyframes spin {\n",
              "    0% {\n",
              "      border-color: transparent;\n",
              "      border-bottom-color: var(--fill-color);\n",
              "      border-left-color: var(--fill-color);\n",
              "    }\n",
              "    20% {\n",
              "      border-color: transparent;\n",
              "      border-left-color: var(--fill-color);\n",
              "      border-top-color: var(--fill-color);\n",
              "    }\n",
              "    30% {\n",
              "      border-color: transparent;\n",
              "      border-left-color: var(--fill-color);\n",
              "      border-top-color: var(--fill-color);\n",
              "      border-right-color: var(--fill-color);\n",
              "    }\n",
              "    40% {\n",
              "      border-color: transparent;\n",
              "      border-right-color: var(--fill-color);\n",
              "      border-top-color: var(--fill-color);\n",
              "    }\n",
              "    60% {\n",
              "      border-color: transparent;\n",
              "      border-right-color: var(--fill-color);\n",
              "    }\n",
              "    80% {\n",
              "      border-color: transparent;\n",
              "      border-right-color: var(--fill-color);\n",
              "      border-bottom-color: var(--fill-color);\n",
              "    }\n",
              "    90% {\n",
              "      border-color: transparent;\n",
              "      border-bottom-color: var(--fill-color);\n",
              "    }\n",
              "  }\n",
              "</style>\n",
              "\n",
              "  <script>\n",
              "    async function quickchart(key) {\n",
              "      const quickchartButtonEl =\n",
              "        document.querySelector('#' + key + ' button');\n",
              "      quickchartButtonEl.disabled = true;  // To prevent multiple clicks.\n",
              "      quickchartButtonEl.classList.add('colab-df-spinner');\n",
              "      try {\n",
              "        const charts = await google.colab.kernel.invokeFunction(\n",
              "            'suggestCharts', [key], {});\n",
              "      } catch (error) {\n",
              "        console.error('Error during call to suggestCharts:', error);\n",
              "      }\n",
              "      quickchartButtonEl.classList.remove('colab-df-spinner');\n",
              "      quickchartButtonEl.classList.add('colab-df-quickchart-complete');\n",
              "    }\n",
              "    (() => {\n",
              "      let quickchartButtonEl =\n",
              "        document.querySelector('#df-0e71248f-caed-4b92-a78b-c47ddb282588 button');\n",
              "      quickchartButtonEl.style.display =\n",
              "        google.colab.kernel.accessAllowed ? 'block' : 'none';\n",
              "    })();\n",
              "  </script>\n",
              "</div>\n",
              "\n",
              "    </div>\n",
              "  </div>\n"
            ],
            "application/vnd.google.colaboratory.intrinsic+json": {
              "type": "dataframe",
              "summary": "{\n  \"name\": \"display(test_df\",\n  \"rows\": 5,\n  \"fields\": [\n    {\n      \"column\": \"Unnamed: 0\",\n      \"properties\": {\n        \"dtype\": \"number\",\n        \"std\": 7530,\n        \"min\": 2223,\n        \"max\": 17881,\n        \"num_unique_values\": 5,\n        \"samples\": [\n          3297,\n          4887,\n          17881\n        ],\n        \"semantic_type\": \"\",\n        \"description\": \"\"\n      }\n    },\n    {\n      \"column\": \"Filename\",\n      \"properties\": {\n        \"dtype\": \"string\",\n        \"num_unique_values\": 5,\n        \"samples\": [\n          \"/root/.cache/kagglehub/datasets/apollo2506/eurosat-dataset/versions/6/EuroSAT/HerbaceousVegetation/HerbaceousVegetation_2835.jpg\",\n          \"/root/.cache/kagglehub/datasets/apollo2506/eurosat-dataset/versions/6/EuroSAT/HerbaceousVegetation/HerbaceousVegetation_1810.jpg\",\n          \"/root/.cache/kagglehub/datasets/apollo2506/eurosat-dataset/versions/6/EuroSAT/PermanentCrop/PermanentCrop_1073.jpg\"\n        ],\n        \"semantic_type\": \"\",\n        \"description\": \"\"\n      }\n    },\n    {\n      \"column\": \"Label\",\n      \"properties\": {\n        \"dtype\": \"number\",\n        \"std\": 2,\n        \"min\": 0,\n        \"max\": 6,\n        \"num_unique_values\": 4,\n        \"samples\": [\n          2,\n          4,\n          0\n        ],\n        \"semantic_type\": \"\",\n        \"description\": \"\"\n      }\n    },\n    {\n      \"column\": \"ClassName\",\n      \"properties\": {\n        \"dtype\": \"string\",\n        \"num_unique_values\": 4,\n        \"samples\": [\n          \"HerbaceousVegetation\",\n          \"Industrial\",\n          \"AnnualCrop\"\n        ],\n        \"semantic_type\": \"\",\n        \"description\": \"\"\n      }\n    }\n  ]\n}"
            }
          },
          "metadata": {}
        },
        {
          "output_type": "stream",
          "name": "stdout",
          "text": [
            "\n",
            " Validační sada:\n"
          ]
        },
        {
          "output_type": "display_data",
          "data": {
            "text/plain": [
              "   Unnamed: 0                                           Filename  Label  \\\n",
              "0         258  /root/.cache/kagglehub/datasets/apollo2506/eur...      5   \n",
              "1        2134  /root/.cache/kagglehub/datasets/apollo2506/eur...      1   \n",
              "2        3518  /root/.cache/kagglehub/datasets/apollo2506/eur...      3   \n",
              "3        3048  /root/.cache/kagglehub/datasets/apollo2506/eur...      8   \n",
              "4        3996  /root/.cache/kagglehub/datasets/apollo2506/eur...      9   \n",
              "\n",
              "  ClassName  \n",
              "0   Pasture  \n",
              "1    Forest  \n",
              "2   Highway  \n",
              "3     River  \n",
              "4   SeaLake  "
            ],
            "text/html": [
              "\n",
              "  <div id=\"df-29be16fb-af08-4bf8-939f-427a4e127ed3\" class=\"colab-df-container\">\n",
              "    <div>\n",
              "<style scoped>\n",
              "    .dataframe tbody tr th:only-of-type {\n",
              "        vertical-align: middle;\n",
              "    }\n",
              "\n",
              "    .dataframe tbody tr th {\n",
              "        vertical-align: top;\n",
              "    }\n",
              "\n",
              "    .dataframe thead th {\n",
              "        text-align: right;\n",
              "    }\n",
              "</style>\n",
              "<table border=\"1\" class=\"dataframe\">\n",
              "  <thead>\n",
              "    <tr style=\"text-align: right;\">\n",
              "      <th></th>\n",
              "      <th>Unnamed: 0</th>\n",
              "      <th>Filename</th>\n",
              "      <th>Label</th>\n",
              "      <th>ClassName</th>\n",
              "    </tr>\n",
              "  </thead>\n",
              "  <tbody>\n",
              "    <tr>\n",
              "      <th>0</th>\n",
              "      <td>258</td>\n",
              "      <td>/root/.cache/kagglehub/datasets/apollo2506/eur...</td>\n",
              "      <td>5</td>\n",
              "      <td>Pasture</td>\n",
              "    </tr>\n",
              "    <tr>\n",
              "      <th>1</th>\n",
              "      <td>2134</td>\n",
              "      <td>/root/.cache/kagglehub/datasets/apollo2506/eur...</td>\n",
              "      <td>1</td>\n",
              "      <td>Forest</td>\n",
              "    </tr>\n",
              "    <tr>\n",
              "      <th>2</th>\n",
              "      <td>3518</td>\n",
              "      <td>/root/.cache/kagglehub/datasets/apollo2506/eur...</td>\n",
              "      <td>3</td>\n",
              "      <td>Highway</td>\n",
              "    </tr>\n",
              "    <tr>\n",
              "      <th>3</th>\n",
              "      <td>3048</td>\n",
              "      <td>/root/.cache/kagglehub/datasets/apollo2506/eur...</td>\n",
              "      <td>8</td>\n",
              "      <td>River</td>\n",
              "    </tr>\n",
              "    <tr>\n",
              "      <th>4</th>\n",
              "      <td>3996</td>\n",
              "      <td>/root/.cache/kagglehub/datasets/apollo2506/eur...</td>\n",
              "      <td>9</td>\n",
              "      <td>SeaLake</td>\n",
              "    </tr>\n",
              "  </tbody>\n",
              "</table>\n",
              "</div>\n",
              "    <div class=\"colab-df-buttons\">\n",
              "\n",
              "  <div class=\"colab-df-container\">\n",
              "    <button class=\"colab-df-convert\" onclick=\"convertToInteractive('df-29be16fb-af08-4bf8-939f-427a4e127ed3')\"\n",
              "            title=\"Convert this dataframe to an interactive table.\"\n",
              "            style=\"display:none;\">\n",
              "\n",
              "  <svg xmlns=\"http://www.w3.org/2000/svg\" height=\"24px\" viewBox=\"0 -960 960 960\">\n",
              "    <path d=\"M120-120v-720h720v720H120Zm60-500h600v-160H180v160Zm220 220h160v-160H400v160Zm0 220h160v-160H400v160ZM180-400h160v-160H180v160Zm440 0h160v-160H620v160ZM180-180h160v-160H180v160Zm440 0h160v-160H620v160Z\"/>\n",
              "  </svg>\n",
              "    </button>\n",
              "\n",
              "  <style>\n",
              "    .colab-df-container {\n",
              "      display:flex;\n",
              "      gap: 12px;\n",
              "    }\n",
              "\n",
              "    .colab-df-convert {\n",
              "      background-color: #E8F0FE;\n",
              "      border: none;\n",
              "      border-radius: 50%;\n",
              "      cursor: pointer;\n",
              "      display: none;\n",
              "      fill: #1967D2;\n",
              "      height: 32px;\n",
              "      padding: 0 0 0 0;\n",
              "      width: 32px;\n",
              "    }\n",
              "\n",
              "    .colab-df-convert:hover {\n",
              "      background-color: #E2EBFA;\n",
              "      box-shadow: 0px 1px 2px rgba(60, 64, 67, 0.3), 0px 1px 3px 1px rgba(60, 64, 67, 0.15);\n",
              "      fill: #174EA6;\n",
              "    }\n",
              "\n",
              "    .colab-df-buttons div {\n",
              "      margin-bottom: 4px;\n",
              "    }\n",
              "\n",
              "    [theme=dark] .colab-df-convert {\n",
              "      background-color: #3B4455;\n",
              "      fill: #D2E3FC;\n",
              "    }\n",
              "\n",
              "    [theme=dark] .colab-df-convert:hover {\n",
              "      background-color: #434B5C;\n",
              "      box-shadow: 0px 1px 3px 1px rgba(0, 0, 0, 0.15);\n",
              "      filter: drop-shadow(0px 1px 2px rgba(0, 0, 0, 0.3));\n",
              "      fill: #FFFFFF;\n",
              "    }\n",
              "  </style>\n",
              "\n",
              "    <script>\n",
              "      const buttonEl =\n",
              "        document.querySelector('#df-29be16fb-af08-4bf8-939f-427a4e127ed3 button.colab-df-convert');\n",
              "      buttonEl.style.display =\n",
              "        google.colab.kernel.accessAllowed ? 'block' : 'none';\n",
              "\n",
              "      async function convertToInteractive(key) {\n",
              "        const element = document.querySelector('#df-29be16fb-af08-4bf8-939f-427a4e127ed3');\n",
              "        const dataTable =\n",
              "          await google.colab.kernel.invokeFunction('convertToInteractive',\n",
              "                                                    [key], {});\n",
              "        if (!dataTable) return;\n",
              "\n",
              "        const docLinkHtml = 'Like what you see? Visit the ' +\n",
              "          '<a target=\"_blank\" href=https://colab.research.google.com/notebooks/data_table.ipynb>data table notebook</a>'\n",
              "          + ' to learn more about interactive tables.';\n",
              "        element.innerHTML = '';\n",
              "        dataTable['output_type'] = 'display_data';\n",
              "        await google.colab.output.renderOutput(dataTable, element);\n",
              "        const docLink = document.createElement('div');\n",
              "        docLink.innerHTML = docLinkHtml;\n",
              "        element.appendChild(docLink);\n",
              "      }\n",
              "    </script>\n",
              "  </div>\n",
              "\n",
              "\n",
              "<div id=\"df-d6ba5e8f-3bd3-40df-94c2-713ef20688e9\">\n",
              "  <button class=\"colab-df-quickchart\" onclick=\"quickchart('df-d6ba5e8f-3bd3-40df-94c2-713ef20688e9')\"\n",
              "            title=\"Suggest charts\"\n",
              "            style=\"display:none;\">\n",
              "\n",
              "<svg xmlns=\"http://www.w3.org/2000/svg\" height=\"24px\"viewBox=\"0 0 24 24\"\n",
              "     width=\"24px\">\n",
              "    <g>\n",
              "        <path d=\"M19 3H5c-1.1 0-2 .9-2 2v14c0 1.1.9 2 2 2h14c1.1 0 2-.9 2-2V5c0-1.1-.9-2-2-2zM9 17H7v-7h2v7zm4 0h-2V7h2v10zm4 0h-2v-4h2v4z\"/>\n",
              "    </g>\n",
              "</svg>\n",
              "  </button>\n",
              "\n",
              "<style>\n",
              "  .colab-df-quickchart {\n",
              "      --bg-color: #E8F0FE;\n",
              "      --fill-color: #1967D2;\n",
              "      --hover-bg-color: #E2EBFA;\n",
              "      --hover-fill-color: #174EA6;\n",
              "      --disabled-fill-color: #AAA;\n",
              "      --disabled-bg-color: #DDD;\n",
              "  }\n",
              "\n",
              "  [theme=dark] .colab-df-quickchart {\n",
              "      --bg-color: #3B4455;\n",
              "      --fill-color: #D2E3FC;\n",
              "      --hover-bg-color: #434B5C;\n",
              "      --hover-fill-color: #FFFFFF;\n",
              "      --disabled-bg-color: #3B4455;\n",
              "      --disabled-fill-color: #666;\n",
              "  }\n",
              "\n",
              "  .colab-df-quickchart {\n",
              "    background-color: var(--bg-color);\n",
              "    border: none;\n",
              "    border-radius: 50%;\n",
              "    cursor: pointer;\n",
              "    display: none;\n",
              "    fill: var(--fill-color);\n",
              "    height: 32px;\n",
              "    padding: 0;\n",
              "    width: 32px;\n",
              "  }\n",
              "\n",
              "  .colab-df-quickchart:hover {\n",
              "    background-color: var(--hover-bg-color);\n",
              "    box-shadow: 0 1px 2px rgba(60, 64, 67, 0.3), 0 1px 3px 1px rgba(60, 64, 67, 0.15);\n",
              "    fill: var(--button-hover-fill-color);\n",
              "  }\n",
              "\n",
              "  .colab-df-quickchart-complete:disabled,\n",
              "  .colab-df-quickchart-complete:disabled:hover {\n",
              "    background-color: var(--disabled-bg-color);\n",
              "    fill: var(--disabled-fill-color);\n",
              "    box-shadow: none;\n",
              "  }\n",
              "\n",
              "  .colab-df-spinner {\n",
              "    border: 2px solid var(--fill-color);\n",
              "    border-color: transparent;\n",
              "    border-bottom-color: var(--fill-color);\n",
              "    animation:\n",
              "      spin 1s steps(1) infinite;\n",
              "  }\n",
              "\n",
              "  @keyframes spin {\n",
              "    0% {\n",
              "      border-color: transparent;\n",
              "      border-bottom-color: var(--fill-color);\n",
              "      border-left-color: var(--fill-color);\n",
              "    }\n",
              "    20% {\n",
              "      border-color: transparent;\n",
              "      border-left-color: var(--fill-color);\n",
              "      border-top-color: var(--fill-color);\n",
              "    }\n",
              "    30% {\n",
              "      border-color: transparent;\n",
              "      border-left-color: var(--fill-color);\n",
              "      border-top-color: var(--fill-color);\n",
              "      border-right-color: var(--fill-color);\n",
              "    }\n",
              "    40% {\n",
              "      border-color: transparent;\n",
              "      border-right-color: var(--fill-color);\n",
              "      border-top-color: var(--fill-color);\n",
              "    }\n",
              "    60% {\n",
              "      border-color: transparent;\n",
              "      border-right-color: var(--fill-color);\n",
              "    }\n",
              "    80% {\n",
              "      border-color: transparent;\n",
              "      border-right-color: var(--fill-color);\n",
              "      border-bottom-color: var(--fill-color);\n",
              "    }\n",
              "    90% {\n",
              "      border-color: transparent;\n",
              "      border-bottom-color: var(--fill-color);\n",
              "    }\n",
              "  }\n",
              "</style>\n",
              "\n",
              "  <script>\n",
              "    async function quickchart(key) {\n",
              "      const quickchartButtonEl =\n",
              "        document.querySelector('#' + key + ' button');\n",
              "      quickchartButtonEl.disabled = true;  // To prevent multiple clicks.\n",
              "      quickchartButtonEl.classList.add('colab-df-spinner');\n",
              "      try {\n",
              "        const charts = await google.colab.kernel.invokeFunction(\n",
              "            'suggestCharts', [key], {});\n",
              "      } catch (error) {\n",
              "        console.error('Error during call to suggestCharts:', error);\n",
              "      }\n",
              "      quickchartButtonEl.classList.remove('colab-df-spinner');\n",
              "      quickchartButtonEl.classList.add('colab-df-quickchart-complete');\n",
              "    }\n",
              "    (() => {\n",
              "      let quickchartButtonEl =\n",
              "        document.querySelector('#df-d6ba5e8f-3bd3-40df-94c2-713ef20688e9 button');\n",
              "      quickchartButtonEl.style.display =\n",
              "        google.colab.kernel.accessAllowed ? 'block' : 'none';\n",
              "    })();\n",
              "  </script>\n",
              "</div>\n",
              "\n",
              "    </div>\n",
              "  </div>\n"
            ],
            "application/vnd.google.colaboratory.intrinsic+json": {
              "type": "dataframe",
              "summary": "{\n  \"name\": \"display(test_df\",\n  \"rows\": 5,\n  \"fields\": [\n    {\n      \"column\": \"Unnamed: 0\",\n      \"properties\": {\n        \"dtype\": \"number\",\n        \"std\": 1474,\n        \"min\": 258,\n        \"max\": 3996,\n        \"num_unique_values\": 5,\n        \"samples\": [\n          2134,\n          3996,\n          3518\n        ],\n        \"semantic_type\": \"\",\n        \"description\": \"\"\n      }\n    },\n    {\n      \"column\": \"Filename\",\n      \"properties\": {\n        \"dtype\": \"string\",\n        \"num_unique_values\": 5,\n        \"samples\": [\n          \"/root/.cache/kagglehub/datasets/apollo2506/eurosat-dataset/versions/6/EuroSAT/Forest/Forest_2638.jpg\",\n          \"/root/.cache/kagglehub/datasets/apollo2506/eurosat-dataset/versions/6/EuroSAT/SeaLake/SeaLake_2930.jpg\",\n          \"/root/.cache/kagglehub/datasets/apollo2506/eurosat-dataset/versions/6/EuroSAT/Highway/Highway_875.jpg\"\n        ],\n        \"semantic_type\": \"\",\n        \"description\": \"\"\n      }\n    },\n    {\n      \"column\": \"Label\",\n      \"properties\": {\n        \"dtype\": \"number\",\n        \"std\": 3,\n        \"min\": 1,\n        \"max\": 9,\n        \"num_unique_values\": 5,\n        \"samples\": [\n          1,\n          9,\n          3\n        ],\n        \"semantic_type\": \"\",\n        \"description\": \"\"\n      }\n    },\n    {\n      \"column\": \"ClassName\",\n      \"properties\": {\n        \"dtype\": \"string\",\n        \"num_unique_values\": 5,\n        \"samples\": [\n          \"Forest\",\n          \"SeaLake\",\n          \"Highway\"\n        ],\n        \"semantic_type\": \"\",\n        \"description\": \"\"\n      }\n    }\n  ]\n}"
            }
          },
          "metadata": {}
        },
        {
          "output_type": "stream",
          "name": "stdout",
          "text": [
            "\n",
            " Testovací sada:\n"
          ]
        },
        {
          "output_type": "display_data",
          "data": {
            "text/plain": [
              "   Unnamed: 0                                           Filename  Label  \\\n",
              "0        2438  /root/.cache/kagglehub/datasets/apollo2506/eur...      0   \n",
              "1        1018  /root/.cache/kagglehub/datasets/apollo2506/eur...      7   \n",
              "2           3  /root/.cache/kagglehub/datasets/apollo2506/eur...      5   \n",
              "3        1011  /root/.cache/kagglehub/datasets/apollo2506/eur...      7   \n",
              "4          47  /root/.cache/kagglehub/datasets/apollo2506/eur...      5   \n",
              "\n",
              "     ClassName  \n",
              "0   AnnualCrop  \n",
              "1  Residential  \n",
              "2      Pasture  \n",
              "3  Residential  \n",
              "4      Pasture  "
            ],
            "text/html": [
              "\n",
              "  <div id=\"df-289a1c51-e38b-4d78-864b-dab26d2640bf\" class=\"colab-df-container\">\n",
              "    <div>\n",
              "<style scoped>\n",
              "    .dataframe tbody tr th:only-of-type {\n",
              "        vertical-align: middle;\n",
              "    }\n",
              "\n",
              "    .dataframe tbody tr th {\n",
              "        vertical-align: top;\n",
              "    }\n",
              "\n",
              "    .dataframe thead th {\n",
              "        text-align: right;\n",
              "    }\n",
              "</style>\n",
              "<table border=\"1\" class=\"dataframe\">\n",
              "  <thead>\n",
              "    <tr style=\"text-align: right;\">\n",
              "      <th></th>\n",
              "      <th>Unnamed: 0</th>\n",
              "      <th>Filename</th>\n",
              "      <th>Label</th>\n",
              "      <th>ClassName</th>\n",
              "    </tr>\n",
              "  </thead>\n",
              "  <tbody>\n",
              "    <tr>\n",
              "      <th>0</th>\n",
              "      <td>2438</td>\n",
              "      <td>/root/.cache/kagglehub/datasets/apollo2506/eur...</td>\n",
              "      <td>0</td>\n",
              "      <td>AnnualCrop</td>\n",
              "    </tr>\n",
              "    <tr>\n",
              "      <th>1</th>\n",
              "      <td>1018</td>\n",
              "      <td>/root/.cache/kagglehub/datasets/apollo2506/eur...</td>\n",
              "      <td>7</td>\n",
              "      <td>Residential</td>\n",
              "    </tr>\n",
              "    <tr>\n",
              "      <th>2</th>\n",
              "      <td>3</td>\n",
              "      <td>/root/.cache/kagglehub/datasets/apollo2506/eur...</td>\n",
              "      <td>5</td>\n",
              "      <td>Pasture</td>\n",
              "    </tr>\n",
              "    <tr>\n",
              "      <th>3</th>\n",
              "      <td>1011</td>\n",
              "      <td>/root/.cache/kagglehub/datasets/apollo2506/eur...</td>\n",
              "      <td>7</td>\n",
              "      <td>Residential</td>\n",
              "    </tr>\n",
              "    <tr>\n",
              "      <th>4</th>\n",
              "      <td>47</td>\n",
              "      <td>/root/.cache/kagglehub/datasets/apollo2506/eur...</td>\n",
              "      <td>5</td>\n",
              "      <td>Pasture</td>\n",
              "    </tr>\n",
              "  </tbody>\n",
              "</table>\n",
              "</div>\n",
              "    <div class=\"colab-df-buttons\">\n",
              "\n",
              "  <div class=\"colab-df-container\">\n",
              "    <button class=\"colab-df-convert\" onclick=\"convertToInteractive('df-289a1c51-e38b-4d78-864b-dab26d2640bf')\"\n",
              "            title=\"Convert this dataframe to an interactive table.\"\n",
              "            style=\"display:none;\">\n",
              "\n",
              "  <svg xmlns=\"http://www.w3.org/2000/svg\" height=\"24px\" viewBox=\"0 -960 960 960\">\n",
              "    <path d=\"M120-120v-720h720v720H120Zm60-500h600v-160H180v160Zm220 220h160v-160H400v160Zm0 220h160v-160H400v160ZM180-400h160v-160H180v160Zm440 0h160v-160H620v160ZM180-180h160v-160H180v160Zm440 0h160v-160H620v160Z\"/>\n",
              "  </svg>\n",
              "    </button>\n",
              "\n",
              "  <style>\n",
              "    .colab-df-container {\n",
              "      display:flex;\n",
              "      gap: 12px;\n",
              "    }\n",
              "\n",
              "    .colab-df-convert {\n",
              "      background-color: #E8F0FE;\n",
              "      border: none;\n",
              "      border-radius: 50%;\n",
              "      cursor: pointer;\n",
              "      display: none;\n",
              "      fill: #1967D2;\n",
              "      height: 32px;\n",
              "      padding: 0 0 0 0;\n",
              "      width: 32px;\n",
              "    }\n",
              "\n",
              "    .colab-df-convert:hover {\n",
              "      background-color: #E2EBFA;\n",
              "      box-shadow: 0px 1px 2px rgba(60, 64, 67, 0.3), 0px 1px 3px 1px rgba(60, 64, 67, 0.15);\n",
              "      fill: #174EA6;\n",
              "    }\n",
              "\n",
              "    .colab-df-buttons div {\n",
              "      margin-bottom: 4px;\n",
              "    }\n",
              "\n",
              "    [theme=dark] .colab-df-convert {\n",
              "      background-color: #3B4455;\n",
              "      fill: #D2E3FC;\n",
              "    }\n",
              "\n",
              "    [theme=dark] .colab-df-convert:hover {\n",
              "      background-color: #434B5C;\n",
              "      box-shadow: 0px 1px 3px 1px rgba(0, 0, 0, 0.15);\n",
              "      filter: drop-shadow(0px 1px 2px rgba(0, 0, 0, 0.3));\n",
              "      fill: #FFFFFF;\n",
              "    }\n",
              "  </style>\n",
              "\n",
              "    <script>\n",
              "      const buttonEl =\n",
              "        document.querySelector('#df-289a1c51-e38b-4d78-864b-dab26d2640bf button.colab-df-convert');\n",
              "      buttonEl.style.display =\n",
              "        google.colab.kernel.accessAllowed ? 'block' : 'none';\n",
              "\n",
              "      async function convertToInteractive(key) {\n",
              "        const element = document.querySelector('#df-289a1c51-e38b-4d78-864b-dab26d2640bf');\n",
              "        const dataTable =\n",
              "          await google.colab.kernel.invokeFunction('convertToInteractive',\n",
              "                                                    [key], {});\n",
              "        if (!dataTable) return;\n",
              "\n",
              "        const docLinkHtml = 'Like what you see? Visit the ' +\n",
              "          '<a target=\"_blank\" href=https://colab.research.google.com/notebooks/data_table.ipynb>data table notebook</a>'\n",
              "          + ' to learn more about interactive tables.';\n",
              "        element.innerHTML = '';\n",
              "        dataTable['output_type'] = 'display_data';\n",
              "        await google.colab.output.renderOutput(dataTable, element);\n",
              "        const docLink = document.createElement('div');\n",
              "        docLink.innerHTML = docLinkHtml;\n",
              "        element.appendChild(docLink);\n",
              "      }\n",
              "    </script>\n",
              "  </div>\n",
              "\n",
              "\n",
              "<div id=\"df-33a0f5a1-fd85-4432-8d73-bc60e6d81c86\">\n",
              "  <button class=\"colab-df-quickchart\" onclick=\"quickchart('df-33a0f5a1-fd85-4432-8d73-bc60e6d81c86')\"\n",
              "            title=\"Suggest charts\"\n",
              "            style=\"display:none;\">\n",
              "\n",
              "<svg xmlns=\"http://www.w3.org/2000/svg\" height=\"24px\"viewBox=\"0 0 24 24\"\n",
              "     width=\"24px\">\n",
              "    <g>\n",
              "        <path d=\"M19 3H5c-1.1 0-2 .9-2 2v14c0 1.1.9 2 2 2h14c1.1 0 2-.9 2-2V5c0-1.1-.9-2-2-2zM9 17H7v-7h2v7zm4 0h-2V7h2v10zm4 0h-2v-4h2v4z\"/>\n",
              "    </g>\n",
              "</svg>\n",
              "  </button>\n",
              "\n",
              "<style>\n",
              "  .colab-df-quickchart {\n",
              "      --bg-color: #E8F0FE;\n",
              "      --fill-color: #1967D2;\n",
              "      --hover-bg-color: #E2EBFA;\n",
              "      --hover-fill-color: #174EA6;\n",
              "      --disabled-fill-color: #AAA;\n",
              "      --disabled-bg-color: #DDD;\n",
              "  }\n",
              "\n",
              "  [theme=dark] .colab-df-quickchart {\n",
              "      --bg-color: #3B4455;\n",
              "      --fill-color: #D2E3FC;\n",
              "      --hover-bg-color: #434B5C;\n",
              "      --hover-fill-color: #FFFFFF;\n",
              "      --disabled-bg-color: #3B4455;\n",
              "      --disabled-fill-color: #666;\n",
              "  }\n",
              "\n",
              "  .colab-df-quickchart {\n",
              "    background-color: var(--bg-color);\n",
              "    border: none;\n",
              "    border-radius: 50%;\n",
              "    cursor: pointer;\n",
              "    display: none;\n",
              "    fill: var(--fill-color);\n",
              "    height: 32px;\n",
              "    padding: 0;\n",
              "    width: 32px;\n",
              "  }\n",
              "\n",
              "  .colab-df-quickchart:hover {\n",
              "    background-color: var(--hover-bg-color);\n",
              "    box-shadow: 0 1px 2px rgba(60, 64, 67, 0.3), 0 1px 3px 1px rgba(60, 64, 67, 0.15);\n",
              "    fill: var(--button-hover-fill-color);\n",
              "  }\n",
              "\n",
              "  .colab-df-quickchart-complete:disabled,\n",
              "  .colab-df-quickchart-complete:disabled:hover {\n",
              "    background-color: var(--disabled-bg-color);\n",
              "    fill: var(--disabled-fill-color);\n",
              "    box-shadow: none;\n",
              "  }\n",
              "\n",
              "  .colab-df-spinner {\n",
              "    border: 2px solid var(--fill-color);\n",
              "    border-color: transparent;\n",
              "    border-bottom-color: var(--fill-color);\n",
              "    animation:\n",
              "      spin 1s steps(1) infinite;\n",
              "  }\n",
              "\n",
              "  @keyframes spin {\n",
              "    0% {\n",
              "      border-color: transparent;\n",
              "      border-bottom-color: var(--fill-color);\n",
              "      border-left-color: var(--fill-color);\n",
              "    }\n",
              "    20% {\n",
              "      border-color: transparent;\n",
              "      border-left-color: var(--fill-color);\n",
              "      border-top-color: var(--fill-color);\n",
              "    }\n",
              "    30% {\n",
              "      border-color: transparent;\n",
              "      border-left-color: var(--fill-color);\n",
              "      border-top-color: var(--fill-color);\n",
              "      border-right-color: var(--fill-color);\n",
              "    }\n",
              "    40% {\n",
              "      border-color: transparent;\n",
              "      border-right-color: var(--fill-color);\n",
              "      border-top-color: var(--fill-color);\n",
              "    }\n",
              "    60% {\n",
              "      border-color: transparent;\n",
              "      border-right-color: var(--fill-color);\n",
              "    }\n",
              "    80% {\n",
              "      border-color: transparent;\n",
              "      border-right-color: var(--fill-color);\n",
              "      border-bottom-color: var(--fill-color);\n",
              "    }\n",
              "    90% {\n",
              "      border-color: transparent;\n",
              "      border-bottom-color: var(--fill-color);\n",
              "    }\n",
              "  }\n",
              "</style>\n",
              "\n",
              "  <script>\n",
              "    async function quickchart(key) {\n",
              "      const quickchartButtonEl =\n",
              "        document.querySelector('#' + key + ' button');\n",
              "      quickchartButtonEl.disabled = true;  // To prevent multiple clicks.\n",
              "      quickchartButtonEl.classList.add('colab-df-spinner');\n",
              "      try {\n",
              "        const charts = await google.colab.kernel.invokeFunction(\n",
              "            'suggestCharts', [key], {});\n",
              "      } catch (error) {\n",
              "        console.error('Error during call to suggestCharts:', error);\n",
              "      }\n",
              "      quickchartButtonEl.classList.remove('colab-df-spinner');\n",
              "      quickchartButtonEl.classList.add('colab-df-quickchart-complete');\n",
              "    }\n",
              "    (() => {\n",
              "      let quickchartButtonEl =\n",
              "        document.querySelector('#df-33a0f5a1-fd85-4432-8d73-bc60e6d81c86 button');\n",
              "      quickchartButtonEl.style.display =\n",
              "        google.colab.kernel.accessAllowed ? 'block' : 'none';\n",
              "    })();\n",
              "  </script>\n",
              "</div>\n",
              "\n",
              "    </div>\n",
              "  </div>\n"
            ],
            "application/vnd.google.colaboratory.intrinsic+json": {
              "type": "dataframe",
              "summary": "{\n  \"name\": \"display(test_df\",\n  \"rows\": 5,\n  \"fields\": [\n    {\n      \"column\": \"Unnamed: 0\",\n      \"properties\": {\n        \"dtype\": \"number\",\n        \"std\": 990,\n        \"min\": 3,\n        \"max\": 2438,\n        \"num_unique_values\": 5,\n        \"samples\": [\n          1018,\n          47,\n          3\n        ],\n        \"semantic_type\": \"\",\n        \"description\": \"\"\n      }\n    },\n    {\n      \"column\": \"Filename\",\n      \"properties\": {\n        \"dtype\": \"string\",\n        \"num_unique_values\": 5,\n        \"samples\": [\n          \"/root/.cache/kagglehub/datasets/apollo2506/eurosat-dataset/versions/6/EuroSAT/Residential/Residential_504.jpg\",\n          \"/root/.cache/kagglehub/datasets/apollo2506/eurosat-dataset/versions/6/EuroSAT/Pasture/Pasture_473.jpg\",\n          \"/root/.cache/kagglehub/datasets/apollo2506/eurosat-dataset/versions/6/EuroSAT/Pasture/Pasture_787.jpg\"\n        ],\n        \"semantic_type\": \"\",\n        \"description\": \"\"\n      }\n    },\n    {\n      \"column\": \"Label\",\n      \"properties\": {\n        \"dtype\": \"number\",\n        \"std\": 2,\n        \"min\": 0,\n        \"max\": 7,\n        \"num_unique_values\": 3,\n        \"samples\": [\n          0,\n          7,\n          5\n        ],\n        \"semantic_type\": \"\",\n        \"description\": \"\"\n      }\n    },\n    {\n      \"column\": \"ClassName\",\n      \"properties\": {\n        \"dtype\": \"string\",\n        \"num_unique_values\": 3,\n        \"samples\": [\n          \"AnnualCrop\",\n          \"Residential\",\n          \"Pasture\"\n        ],\n        \"semantic_type\": \"\",\n        \"description\": \"\"\n      }\n    }\n  ]\n}"
            }
          },
          "metadata": {}
        }
      ]
    },
    {
      "cell_type": "code",
      "source": [
        "# Vytvoření slovníku pro převod Label -> ClassName\n",
        "label_to_class = train_df[[\"Label\", \"ClassName\"]].drop_duplicates().set_index(\"Label\")[\"ClassName\"].to_dict()\n",
        "\n",
        "# Výpis přiřazení\n",
        "print(\"Přiřazení kategorií landuse:\\n\")\n",
        "for label, class_name in sorted(label_to_class.items()):\n",
        "    print(f\"{label}: {class_name}\")"
      ],
      "metadata": {
        "colab": {
          "base_uri": "https://localhost:8080/"
        },
        "id": "GmuT7pHbYnQ4",
        "outputId": "4495846f-9685-4e10-c323-22710b1d6933"
      },
      "execution_count": 101,
      "outputs": [
        {
          "output_type": "stream",
          "name": "stdout",
          "text": [
            "Přiřazení kategorií landuse:\n",
            "\n",
            "0: AnnualCrop\n",
            "1: Forest\n",
            "2: HerbaceousVegetation\n",
            "3: Highway\n",
            "4: Industrial\n",
            "5: Pasture\n",
            "6: PermanentCrop\n",
            "7: Residential\n",
            "8: River\n",
            "9: SeaLake\n"
          ]
        }
      ]
    },
    {
      "cell_type": "markdown",
      "source": [
        "# DATA - ANALÝZA A PREPROCESING\n",
        "\n",
        "#Zjišťujeme,\n",
        "\n",
        "1.   jaké mají fotky rozměry,\n",
        "2.   vizuálně hodnotíme, jak fotky vypadají pro člověka a jak jsou barevně ne/pestré\n",
        "3.   normalizace pixelových hodnot (škálování do rozmezí 0–1) a augmentace\n",
        "4.   změna rozměrů obrázků - není třeba, když si stavíme model\n",
        "5.   one-hot encoding labelů (převod kategorií na numerické vektory)\n",
        "6.   kontrola dat v trénovací, validační a testovací sadě\n"
      ],
      "metadata": {
        "id": "jLQn3-pUwWtV"
      }
    },
    {
      "cell_type": "markdown",
      "source": [
        "### Ověření rozměrů fotek"
      ],
      "metadata": {
        "id": "uVuUbT4dZ4zp"
      }
    },
    {
      "cell_type": "code",
      "source": [
        "sample_img_path = None\n",
        "for root, _, files in os.walk(path_to_download):\n",
        "    for file in files:\n",
        "        if file.endswith((\".jpg\", \".png\")):  # Zkontrolujeme, zda je to obrázek\n",
        "            sample_img_path = os.path.join(root, file)\n",
        "            break\n",
        "    if sample_img_path:\n",
        "        break\n",
        "\n",
        "# Načtení a zjištění rozměrů\n",
        "if sample_img_path:\n",
        "    img = Image.open(sample_img_path)\n",
        "    print(f\"Náhodný RGB obrázek: {sample_img_path}\")\n",
        "    print(f\"Rozlišení: {img.size}\")  # (šířka, výška)\n",
        "    print(f\"Počet kanálů: {len(img.getbands())}\")  # Očekáváme 3 (RGB)\n",
        "else:\n",
        "    print(\"❌ Nenašel jsem žádné RGB obrázky v datasetu!\")"
      ],
      "metadata": {
        "colab": {
          "base_uri": "https://localhost:8080/"
        },
        "id": "ST0HVrT0LrP_",
        "outputId": "f7b408dc-9442-460d-da3d-23bda57fb0ac"
      },
      "execution_count": 102,
      "outputs": [
        {
          "output_type": "stream",
          "name": "stdout",
          "text": [
            "Náhodný RGB obrázek: /root/.cache/kagglehub/datasets/apollo2506/eurosat-dataset/versions/6/EuroSAT/River/River_473.jpg\n",
            "Rozlišení: (64, 64)\n",
            "Počet kanálů: 3\n"
          ]
        }
      ]
    },
    {
      "cell_type": "markdown",
      "source": [
        "### Vizuální zhodnocení kvality fotek = stačí rozlišení na tréning?"
      ],
      "metadata": {
        "id": "ac9llGBEZ88c"
      }
    },
    {
      "cell_type": "code",
      "source": [
        "# Výběr 3 náhodných obrázků\n",
        "all_images = []\n",
        "for root, _, files in os.walk(path_to_download):\n",
        "    all_images.extend([os.path.join(root, file) for file in files if file.endswith((\".jpg\", \".png\"))])\n",
        "random_images = random.sample(all_images, 3)\n",
        "\n",
        "# Vykreslení obrázků a jejich histogramů\n",
        "fig, axes = plt.subplots(2, 3, figsize=(12, 8))  # 2 řádky, 3 sloupce (obrázky nahoře, histogramy dole)\n",
        "\n",
        "for i, img_path in enumerate(random_images):\n",
        "    img = Image.open(img_path)\n",
        "    img_array = np.array(img)  # Převod na NumPy pole\n",
        "\n",
        "    # Vykreslení obrázku (horní řádek)\n",
        "    axes[0, i].imshow(img)\n",
        "    axes[0, i].set_title(os.path.basename(img_path))\n",
        "    axes[0, i].axis(\"off\")\n",
        "\n",
        "    # Vykreslení histogramu RGB (dolní řádek)\n",
        "    colors = [\"red\", \"green\", \"blue\"]\n",
        "    for j, color in enumerate(colors):\n",
        "        axes[1, i].hist(img_array[:, :, j].ravel(), bins=256, color=color, alpha=0.6, label=color.upper())\n",
        "\n",
        "    axes[1, i].set_title(\"Histogram RGB\")\n",
        "    axes[1, i].legend()\n",
        "\n",
        "plt.tight_layout()\n",
        "plt.show()\n"
      ],
      "metadata": {
        "colab": {
          "base_uri": "https://localhost:8080/",
          "height": 800
        },
        "id": "xq8HRgmjMDhx",
        "outputId": "b5dc790b-22fb-49ef-be0d-d6615aa0e9bc"
      },
      "execution_count": 103,
      "outputs": [
        {
          "output_type": "display_data",
          "data": {
            "text/plain": [
              "<Figure size 1200x800 with 6 Axes>"
            ],
            "image/png": "[encoded data removed]"
          },
          "metadata": {}
        }
      ]
    },
    {
      "cell_type": "markdown",
      "source": [
        "###Normalizace sad a augmentace trénovací sady\n"
      ],
      "metadata": {
        "id": "mUS-7-RGbc6h"
      }
    },
    {
      "cell_type": "code",
      "source": [
        "# Trénovací data znormalizujeme a aplikujeme na ni augmentaci:\n",
        "train_datagen = ImageDataGenerator(\n",
        "    rescale=1./255,                 # normalizace pixelů (0–1)\n",
        "    rotation_range=30,              # náhodná rotace\n",
        "    width_shift_range=0.2,          # norizontální posun\n",
        "    height_shift_range=0.2,         # nertikální posun\n",
        "    zoom_range=0.2,                 # náhodné přiblížení\n",
        "    horizontal_flip=False,          # zrcadlení jsem zakázala, protože stíny, směr sever apod...\n",
        "    fill_mode=\"nearest\"             #vyplní případně prázdné pixely barvou nejbližších okolních\n",
        ")\n",
        "\n",
        "val_datagen = ImageDataGenerator(\n",
        "    rescale=1./255\n",
        "    ) # Pouze normalizace, bez augmentace"
      ],
      "metadata": {
        "id": "xazqETeTbb6a"
      },
      "execution_count": 104,
      "outputs": []
    },
    {
      "cell_type": "markdown",
      "source": [
        "### Převedení na stupně šedi a pak terpve normalizace - ZATÍM NEAPLIKOVÁNO\n",
        "\n",
        "# Funkce pro převod na grayscale a normalizaci\n",
        "def convert_to_grayscale_and_normalize(image_path):\n",
        "    img = Image.open(image_path).convert(\"L\")  # 1️⃣ Převod na grayscale\n",
        "    img_array = np.array(img, dtype=np.float32) / 255.0  # 2️⃣ Normalizace do 0–1\n",
        "    return img, img_array  # Vrátíme původní grayscale obrázek i NumPy array\n",
        "\n",
        "# Vykreslení obrázků před a po převodu\n",
        "fig, axes = plt.subplots(2, 3, figsize=(12, 8))  # 2 řádky, 3 sloupce\n",
        "\n",
        "for i, img_path in enumerate(random_images):\n",
        "    # Načtení původního obrázku (RGB)\n",
        "    img_original = Image.open(img_path)\n",
        "\n",
        "    # Převod na grayscale + normalizace\n",
        "    img_gray, img_gray_array = convert_to_grayscale_and_normalize(img_path)\n",
        "\n",
        "    # Vykreslení původního obrázku (horní řádek)\n",
        "    axes[0, i].imshow(img_original)\n",
        "    axes[0, i].set_title(f\"Původní: {os.path.basename(img_path)}\")\n",
        "    axes[0, i].axis(\"off\")\n",
        "\n",
        "    # Vykreslení grayscale obrázku (dolní řádek)\n",
        "    axes[1, i].imshow(img_gray_array, cmap=\"gray\")\n",
        "    axes[1, i].set_title(\"Grayscale + normalizace\")\n",
        "    axes[1, i].axis(\"off\")\n",
        "\n",
        "plt.tight_layout()\n",
        "plt.show()"
      ],
      "metadata": {
        "id": "X_Qurs6r7XEA"
      }
    },
    {
      "cell_type": "markdown",
      "source": [
        "###Rozložení landuse kategorií v sadě trénovací/validační/testovací\n"
      ],
      "metadata": {
        "id": "b04TGThubJsH"
      }
    },
    {
      "cell_type": "code",
      "source": [
        "def count_labels(df, dataset_name):\n",
        "    label_counts = df[\"ClassName\"].value_counts()  # Spočítání obrázků pro každou třídu\n",
        "    print(f\" Počet obrázků ve {dataset_name} sadě:\\n\")\n",
        "    for label, count in label_counts.items():\n",
        "        print(f\"{label}: {count} obrázků\")\n",
        "    print(\"-\" * 40)\n",
        "\n",
        "# Spočítání pro všechny datasetové sady\n",
        "count_labels(train_df, \"trénovací\")\n",
        "count_labels(val_df, \"validační\")\n",
        "count_labels(test_df, \"testovací\")"
      ],
      "metadata": {
        "colab": {
          "base_uri": "https://localhost:8080/"
        },
        "id": "b7hGzBy3bPOO",
        "outputId": "3f85ee35-1e04-422a-fe20-faec330110a5"
      },
      "execution_count": 105,
      "outputs": [
        {
          "output_type": "stream",
          "name": "stdout",
          "text": [
            " Počet obrázků ve trénovací sadě:\n",
            "\n",
            "AnnualCrop: 2100 obrázků\n",
            "HerbaceousVegetation: 2100 obrázků\n",
            "SeaLake: 2100 obrázků\n",
            "Forest: 2100 obrázků\n",
            "Residential: 2100 obrázků\n",
            "PermanentCrop: 1750 obrázků\n",
            "Industrial: 1750 obrázků\n",
            "Highway: 1750 obrázků\n",
            "River: 1750 obrázků\n",
            "Pasture: 1400 obrázků\n",
            "----------------------------------------\n",
            " Počet obrázků ve validační sadě:\n",
            "\n",
            "Forest: 600 obrázků\n",
            "AnnualCrop: 600 obrázků\n",
            "HerbaceousVegetation: 600 obrázků\n",
            "SeaLake: 600 obrázků\n",
            "Residential: 600 obrázků\n",
            "Highway: 500 obrázků\n",
            "PermanentCrop: 500 obrázků\n",
            "River: 500 obrázků\n",
            "Industrial: 500 obrázků\n",
            "Pasture: 400 obrázků\n",
            "----------------------------------------\n",
            " Počet obrázků ve testovací sadě:\n",
            "\n",
            "AnnualCrop: 300 obrázků\n",
            "Residential: 300 obrázků\n",
            "HerbaceousVegetation: 300 obrázků\n",
            "SeaLake: 300 obrázků\n",
            "Forest: 300 obrázků\n",
            "PermanentCrop: 250 obrázků\n",
            "Highway: 250 obrázků\n",
            "River: 250 obrázků\n",
            "Industrial: 250 obrázků\n",
            "Pasture: 200 obrázků\n",
            "----------------------------------------\n"
          ]
        }
      ]
    },
    {
      "cell_type": "code",
      "source": [
        "#Kolik je v každém labelu v trénovací sadě snímků?\n",
        "label_counts = train_df[\"Label\"].value_counts().sort_index()\n",
        "\n",
        "# Vytvoření DataFrame\n",
        "df_counts = pd.DataFrame({\n",
        "    \"Label\": label_counts.index,\n",
        "    \"ClassName\": [label_to_class[label] for label in label_counts.index],\n",
        "    \"Počet snímků\": label_counts.values\n",
        "})\n",
        "\n",
        "# Vykreslení sloupcového grafu\n",
        "plt.figure(figsize=(10, 5))\n",
        "plt.bar(df_counts[\"ClassName\"], df_counts[\"Počet snímků\"], color=\"skyblue\")\n",
        "plt.xticks(rotation=45, ha=\"right\")\n",
        "plt.xlabel(\"Kategorie\")\n",
        "plt.ylabel(\"Počet snímků\")\n",
        "plt.title(\"Počet snímků v jednotlivých kategoriích\")\n",
        "plt.show()"
      ],
      "metadata": {
        "colab": {
          "base_uri": "https://localhost:8080/",
          "height": 596
        },
        "id": "H1YRzj4d8xz-",
        "outputId": "e9270148-1561-4a24-f2e7-4ff823119d4f"
      },
      "execution_count": 106,
      "outputs": [
        {
          "output_type": "display_data",
          "data": {
            "text/plain": [
              "<Figure size 1000x500 with 1 Axes>"
            ],
            "image/png": "[encoded data removed]"
          },
          "metadata": {}
        }
      ]
    },
    {
      "cell_type": "code",
      "source": [
        "\n",
        "# Generátory dat\n",
        "train_generator = train_datagen.flow_from_dataframe(\n",
        "    train_df, x_col=\"Filename\", y_col=\"ClassName\", target_size=(64,64), batch_size=32, class_mode=\"categorical\"\n",
        ")\n",
        "val_generator = val_datagen.flow_from_dataframe(\n",
        "    val_df, x_col=\"Filename\", y_col=\"ClassName\", target_size=(64,64), batch_size=32, class_mode=\"categorical\"\n",
        ")"
      ],
      "metadata": {
        "colab": {
          "base_uri": "https://localhost:8080/"
        },
        "id": "6EEuUQZBhwmN",
        "outputId": "8a9e929b-bc3f-40e2-ce29-7a0953371f12"
      },
      "execution_count": 107,
      "outputs": [
        {
          "output_type": "stream",
          "name": "stdout",
          "text": [
            "Found 18900 validated image filenames belonging to 10 classes.\n",
            "Found 5400 validated image filenames belonging to 10 classes.\n"
          ]
        }
      ]
    },
    {
      "cell_type": "markdown",
      "source": [
        "# DEFINICE MODELU\n",
        "\n",
        "Je třeba napojit znormalizovaná data na model tak, aby se neukládala, ale upravovala se při vstupu do modelu.\n",
        "\n",
        "##### **Připojení dat k generatoru (příklad se složkami datasetu)**\n",
        "train_generator = datagen.flow_from_directory(\n",
        "    \"cesta_k_trenovacimu_datasetu\",\n",
        "    target_size=(64, 64),\n",
        "    batch_size=32,\n",
        "    class_mode=\"categorical\"  # Používáme, pokud máme více tříd\n",
        ")\n",
        "\n",
        "Sequential - callback = early stopping, ukládání nejlepšího modelu kvůli kapacitě colabu => psát si výsledky + checkpoints"
      ],
      "metadata": {
        "id": "rdxkQo1ryecM"
      }
    },
    {
      "cell_type": "markdown",
      "source": [
        "##Přednastavení\n"
      ],
      "metadata": {
        "id": "-M86U119IGbw"
      }
    },
    {
      "cell_type": "markdown",
      "source": [
        "###Early Stopping\n"
      ],
      "metadata": {
        "id": "-MrgBAUuHkQZ"
      }
    },
    {
      "cell_type": "code",
      "source": [
        "#nastavuji při vědomí, že se může val_accuracy ještě zlepšovat - rozpoznávání tříd\n",
        "early_stopping = EarlyStopping(\n",
        "    monitor=\"val_loss\",      # sledujeme validační ztrátu\n",
        "    patience=5,              # Po kolika epochách bez zlepšení zastavit trénování\n",
        "    min_delta=0.05,\n",
        "    restore_best_weights=True # Po zastavení vrátí nejlepší váhy modelu\n",
        ")"
      ],
      "metadata": {
        "id": "GtIMJ3aPHmVJ"
      },
      "execution_count": 108,
      "outputs": []
    },
    {
      "cell_type": "markdown",
      "source": [
        "###Model Checkpoint\n"
      ],
      "metadata": {
        "id": "uesnh1NtHnHu"
      }
    },
    {
      "cell_type": "code",
      "source": [
        "#ukládání nejlepšího modelu;\n",
        "model_checkpoint = ModelCheckpoint(\n",
        "    \"best_model.h5\",       # název souboru pro uložení modelu\n",
        "    monitor=\"val_loss\",    # sledujeme validační ztrátu (nižší = lepší model)\n",
        "    save_best_only=True,   # uloží pouze nejlepší model\n",
        "    mode=\"min\",            # protože chceme minimalizovat `val_loss`\n",
        "    verbose=1              # výpis informací při ukládání\n",
        ")"
      ],
      "metadata": {
        "id": "rQMYdRLAHsH4"
      },
      "execution_count": 109,
      "outputs": []
    },
    {
      "cell_type": "markdown",
      "source": [
        "###ReduceLROnPlateau"
      ],
      "metadata": {
        "id": "GHQWpXw4HvLz"
      }
    },
    {
      "cell_type": "code",
      "source": [
        "#dynamické snižovnání rychlosti učení, brání zaseknutí v lokálním minimu, snižuje validační ztrátu = čím nižší, tím lepší model\n",
        "reduce_lr = ReduceLROnPlateau(\n",
        "    monitor=\"val_loss\",   # sleduje val_loss\n",
        "    factor=0.5,           # sníží learning rate na polovinu\n",
        "    patience=3,           # ..po 3 epochách bez zlepšení\n",
        "    min_lr=1e-6,          # minimální možná hodnota learning rate\n",
        "    verbose=1             # výpíše informace při změně\n",
        ")"
      ],
      "metadata": {
        "id": "cMoxDTb8Hxsd"
      },
      "execution_count": 110,
      "outputs": []
    },
    {
      "cell_type": "markdown",
      "source": [
        "## Postavení modelu\n"
      ],
      "metadata": {
        "id": "Oc4QZ6RRX0WR"
      }
    },
    {
      "cell_type": "code",
      "source": [
        "# vytvoření  vlastního modelu, ; Sequentional= každá vrstva přidává novou transformaci dat, která zlepšuje schopnost modelu rozpoznávat vzory\n",
        "model = Sequential([\n",
        "    # první konvoluční vrstva\n",
        "    Input(shape=(64, 64, 3)),\n",
        "    Conv2D(32, (3,3), activation='relu'), #32 filtrů hledá jiné vzory v matrici 3x3 pixely, \"relu\"převádí záporné hodnoty aktivační funkce na nulu, model očekává obrázky RGB 64x64\n",
        "    MaxPooling2D(2,2),                                             # pooling snižuje velikost obrázků (na polovinu = 32x32) => snižuje rozsah výpočtu a vybírá ty nejdůležitější tvary na obrázku\n",
        "\n",
        "    # druhá konvoluční vrstva\n",
        "    Conv2D(64, (3,3), activation='relu'),                           #64 filtrů analyzuje složitější tvary, rysy na obrázku\n",
        "    MaxPooling2D(2,2),                                              # snižuje velikost obrázku na 16x16\n",
        "\n",
        "    # třetí konvoluční vrstva\n",
        "    Conv2D(128, (3,3), activation='relu'),                          #nasazuje 128 filtrů\n",
        "    MaxPooling2D(2,2),                                               #snižuje velikost obrázku na 8x8\n",
        "\n",
        "    # zploštění převede data z 8x8x128 => máme vektor s 8 192 prvky, které mohou vstoupit do dense vsrtvy se 128 neurony  a\n",
        "    Flatten(),\n",
        "\n",
        "    # .... do dense vsrtvy se 128 neurony a přirpavit se na klasifikaci\n",
        "    Dense(128, activation='relu'),\n",
        "    Dropout(0.5),                                                   # v dense vrstvě \"vypne\" 50% neuronů, brání tím přeučení\n",
        "\n",
        "    # výstupní vrstva s 10 třídami (softmax pro klasifikaci)\n",
        "    Dense(10, activation='softmax')\n",
        "])"
      ],
      "metadata": {
        "id": "ud2wouW6ZJVU"
      },
      "execution_count": 111,
      "outputs": []
    },
    {
      "cell_type": "markdown",
      "source": [
        "###Optimizační algoritmus a ztrátová funkce"
      ],
      "metadata": {
        "id": "lGAhOAKsHyR4"
      }
    },
    {
      "cell_type": "code",
      "source": [
        "model.compile(\n",
        "    optimizer=\"adam\",                #  optimalizuje váhy a optimalizační algoritmus; modelu říkám, že se má učit podle gradientu\n",
        "    loss=\"categorical_crossentropy\",  # vyhodnocení chyby a snaha o její znižování\n",
        "    metrics=[\"accuracy\"]              # nastavuje přesnost, abychom viděli výkon modelu\n",
        ")"
      ],
      "metadata": {
        "id": "yXkTj6tZH3Nn"
      },
      "execution_count": 112,
      "outputs": []
    },
    {
      "cell_type": "markdown",
      "source": [
        "###Batch size"
      ],
      "metadata": {
        "id": "j-Qrg5RyH_RA"
      }
    },
    {
      "cell_type": "code",
      "source": [
        "history = model.fit(\n",
        "    train_generator,\n",
        "    validation_data=val_generator,\n",
        "    epochs=50,\n",
        "    batch_size=32,  # Nastavení batch size\n",
        "    callbacks=[early_stopping, model_checkpoint, reduce_lr]\n",
        ")\n",
        "\n"
      ],
      "metadata": {
        "id": "EJ2mRl2BiU_I",
        "colab": {
          "base_uri": "https://localhost:8080/"
        },
        "outputId": "5ba2184e-c2ab-4c13-c510-09300b45ee1b"
      },
      "execution_count": 115,
      "outputs": [
        {
          "output_type": "stream",
          "name": "stdout",
          "text": [
            "Epoch 1/50\n",
            "\u001b[1m591/591\u001b[0m \u001b[32m━━━━━━━━━━━━━━━━━━━━\u001b[0m\u001b[37m\u001b[0m \u001b[1m0s\u001b[0m 53ms/step - accuracy: 0.8390 - loss: 0.4717\n",
            "Epoch 1: val_loss did not improve from 0.33839\n",
            "\u001b[1m591/591\u001b[0m \u001b[32m━━━━━━━━━━━━━━━━━━━━\u001b[0m\u001b[37m\u001b[0m \u001b[1m34s\u001b[0m 57ms/step - accuracy: 0.8390 - loss: 0.4717 - val_accuracy: 0.8835 - val_loss: 0.3774 - learning_rate: 0.0010\n",
            "Epoch 2/50\n",
            "\u001b[1m591/591\u001b[0m \u001b[32m━━━━━━━━━━━━━━━━━━━━\u001b[0m\u001b[37m\u001b[0m \u001b[1m0s\u001b[0m 53ms/step - accuracy: 0.8482 - loss: 0.4463\n",
            "Epoch 2: val_loss did not improve from 0.33839\n",
            "\u001b[1m591/591\u001b[0m \u001b[32m━━━━━━━━━━━━━━━━━━━━\u001b[0m\u001b[37m\u001b[0m \u001b[1m33s\u001b[0m 56ms/step - accuracy: 0.8483 - loss: 0.4462 - val_accuracy: 0.8448 - val_loss: 0.4896 - learning_rate: 0.0010\n",
            "Epoch 3/50\n",
            "\u001b[1m591/591\u001b[0m \u001b[32m━━━━━━━━━━━━━━━━━━━━\u001b[0m\u001b[37m\u001b[0m \u001b[1m0s\u001b[0m 52ms/step - accuracy: 0.8511 - loss: 0.4348\n",
            "Epoch 3: val_loss did not improve from 0.33839\n",
            "\u001b[1m591/591\u001b[0m \u001b[32m━━━━━━━━━━━━━━━━━━━━\u001b[0m\u001b[37m\u001b[0m \u001b[1m33s\u001b[0m 56ms/step - accuracy: 0.8511 - loss: 0.4348 - val_accuracy: 0.8733 - val_loss: 0.3838 - learning_rate: 0.0010\n",
            "Epoch 4/50\n",
            "\u001b[1m591/591\u001b[0m \u001b[32m━━━━━━━━━━━━━━━━━━━━\u001b[0m\u001b[37m\u001b[0m \u001b[1m0s\u001b[0m 53ms/step - accuracy: 0.8577 - loss: 0.4221\n",
            "Epoch 4: val_loss did not improve from 0.33839\n",
            "\u001b[1m591/591\u001b[0m \u001b[32m━━━━━━━━━━━━━━━━━━━━\u001b[0m\u001b[37m\u001b[0m \u001b[1m42s\u001b[0m 58ms/step - accuracy: 0.8577 - loss: 0.4221 - val_accuracy: 0.8831 - val_loss: 0.3454 - learning_rate: 0.0010\n",
            "Epoch 5/50\n",
            "\u001b[1m591/591\u001b[0m \u001b[32m━━━━━━━━━━━━━━━━━━━━\u001b[0m\u001b[37m\u001b[0m \u001b[1m0s\u001b[0m 54ms/step - accuracy: 0.8627 - loss: 0.4070\n",
            "Epoch 5: val_loss did not improve from 0.33839\n",
            "\u001b[1m591/591\u001b[0m \u001b[32m━━━━━━━━━━━━━━━━━━━━\u001b[0m\u001b[37m\u001b[0m \u001b[1m34s\u001b[0m 58ms/step - accuracy: 0.8627 - loss: 0.4070 - val_accuracy: 0.8878 - val_loss: 0.3489 - learning_rate: 0.0010\n",
            "Epoch 6/50\n",
            "\u001b[1m590/591\u001b[0m \u001b[32m━━━━━━━━━━━━━━━━━━━\u001b[0m\u001b[37m━\u001b[0m \u001b[1m0s\u001b[0m 54ms/step - accuracy: 0.8629 - loss: 0.4121\n",
            "Epoch 6: val_loss improved from 0.33839 to 0.31022, saving model to best_model.h5\n"
          ]
        },
        {
          "output_type": "stream",
          "name": "stderr",
          "text": [
            "WARNING:absl:You are saving your model as an HDF5 file via `model.save()` or `keras.saving.save_model(model)`. This file format is considered legacy. We recommend using instead the native Keras format, e.g. `model.save('my_model.keras')` or `keras.saving.save_model(model, 'my_model.keras')`. \n"
          ]
        },
        {
          "output_type": "stream",
          "name": "stdout",
          "text": [
            "\b\b\b\b\b\b\b\b\b\b\b\b\b\b\b\b\b\b\b\b\b\b\b\b\b\b\b\b\b\b\b\b\b\b\b\b\b\b\b\b\b\b\b\b\b\b\b\b\b\b\b\b\b\b\b\b\b\b\b\b\b\b\b\b\b\b\b\b\b\b\b\b\b\b\b\r\u001b[1m591/591\u001b[0m \u001b[32m━━━━━━━━━━━━━━━━━━━━\u001b[0m\u001b[37m\u001b[0m \u001b[1m34s\u001b[0m 58ms/step - accuracy: 0.8629 - loss: 0.4121 - val_accuracy: 0.8941 - val_loss: 0.3102 - learning_rate: 0.0010\n",
            "Epoch 7/50\n",
            "\u001b[1m591/591\u001b[0m \u001b[32m━━━━━━━━━━━━━━━━━━━━\u001b[0m\u001b[37m\u001b[0m \u001b[1m0s\u001b[0m 52ms/step - accuracy: 0.8658 - loss: 0.3997\n",
            "Epoch 7: val_loss improved from 0.31022 to 0.30104, saving model to best_model.h5\n"
          ]
        },
        {
          "output_type": "stream",
          "name": "stderr",
          "text": [
            "WARNING:absl:You are saving your model as an HDF5 file via `model.save()` or `keras.saving.save_model(model)`. This file format is considered legacy. We recommend using instead the native Keras format, e.g. `model.save('my_model.keras')` or `keras.saving.save_model(model, 'my_model.keras')`. \n"
          ]
        },
        {
          "output_type": "stream",
          "name": "stdout",
          "text": [
            "\b\b\b\b\b\b\b\b\b\b\b\b\b\b\b\b\b\b\b\b\b\b\b\b\b\b\b\b\b\b\b\b\b\b\b\b\b\b\b\b\b\b\b\b\b\b\b\b\b\b\b\b\b\b\b\b\b\b\b\b\b\b\b\b\b\b\b\b\b\b\b\b\b\b\b\r\u001b[1m591/591\u001b[0m \u001b[32m━━━━━━━━━━━━━━━━━━━━\u001b[0m\u001b[37m\u001b[0m \u001b[1m33s\u001b[0m 55ms/step - accuracy: 0.8658 - loss: 0.3997 - val_accuracy: 0.8989 - val_loss: 0.3010 - learning_rate: 0.0010\n",
            "Epoch 8/50\n",
            "\u001b[1m591/591\u001b[0m \u001b[32m━━━━━━━━━━━━━━━━━━━━\u001b[0m\u001b[37m\u001b[0m \u001b[1m0s\u001b[0m 53ms/step - accuracy: 0.8759 - loss: 0.3765\n",
            "Epoch 8: val_loss improved from 0.30104 to 0.24051, saving model to best_model.h5\n"
          ]
        },
        {
          "output_type": "stream",
          "name": "stderr",
          "text": [
            "WARNING:absl:You are saving your model as an HDF5 file via `model.save()` or `keras.saving.save_model(model)`. This file format is considered legacy. We recommend using instead the native Keras format, e.g. `model.save('my_model.keras')` or `keras.saving.save_model(model, 'my_model.keras')`. \n"
          ]
        },
        {
          "output_type": "stream",
          "name": "stdout",
          "text": [
            "\b\b\b\b\b\b\b\b\b\b\b\b\b\b\b\b\b\b\b\b\b\b\b\b\b\b\b\b\b\b\b\b\b\b\b\b\b\b\b\b\b\b\b\b\b\b\b\b\b\b\b\b\b\b\b\b\b\b\b\b\b\b\b\b\b\b\b\b\b\b\b\b\b\b\b\r\u001b[1m591/591\u001b[0m \u001b[32m━━━━━━━━━━━━━━━━━━━━\u001b[0m\u001b[37m\u001b[0m \u001b[1m34s\u001b[0m 57ms/step - accuracy: 0.8759 - loss: 0.3765 - val_accuracy: 0.9172 - val_loss: 0.2405 - learning_rate: 0.0010\n",
            "Epoch 9/50\n",
            "\u001b[1m591/591\u001b[0m \u001b[32m━━━━━━━━━━━━━━━━━━━━\u001b[0m\u001b[37m\u001b[0m \u001b[1m0s\u001b[0m 52ms/step - accuracy: 0.8811 - loss: 0.3537\n",
            "Epoch 9: val_loss did not improve from 0.24051\n",
            "\u001b[1m591/591\u001b[0m \u001b[32m━━━━━━━━━━━━━━━━━━━━\u001b[0m\u001b[37m\u001b[0m \u001b[1m34s\u001b[0m 57ms/step - accuracy: 0.8811 - loss: 0.3537 - val_accuracy: 0.8328 - val_loss: 0.5456 - learning_rate: 0.0010\n",
            "Epoch 10/50\n",
            "\u001b[1m590/591\u001b[0m \u001b[32m━━━━━━━━━━━━━━━━━━━\u001b[0m\u001b[37m━\u001b[0m \u001b[1m0s\u001b[0m 52ms/step - accuracy: 0.8764 - loss: 0.3615\n",
            "Epoch 10: val_loss did not improve from 0.24051\n",
            "\u001b[1m591/591\u001b[0m \u001b[32m━━━━━━━━━━━━━━━━━━━━\u001b[0m\u001b[37m\u001b[0m \u001b[1m33s\u001b[0m 55ms/step - accuracy: 0.8764 - loss: 0.3615 - val_accuracy: 0.9065 - val_loss: 0.2689 - learning_rate: 0.0010\n",
            "Epoch 11/50\n",
            "\u001b[1m591/591\u001b[0m \u001b[32m━━━━━━━━━━━━━━━━━━━━\u001b[0m\u001b[37m\u001b[0m \u001b[1m0s\u001b[0m 54ms/step - accuracy: 0.8855 - loss: 0.3492\n",
            "Epoch 11: val_loss did not improve from 0.24051\n",
            "\n",
            "Epoch 11: ReduceLROnPlateau reducing learning rate to 0.0005000000237487257.\n",
            "\u001b[1m591/591\u001b[0m \u001b[32m━━━━━━━━━━━━━━━━━━━━\u001b[0m\u001b[37m\u001b[0m \u001b[1m42s\u001b[0m 57ms/step - accuracy: 0.8855 - loss: 0.3492 - val_accuracy: 0.9124 - val_loss: 0.2571 - learning_rate: 0.0010\n",
            "Epoch 12/50\n",
            "\u001b[1m590/591\u001b[0m \u001b[32m━━━━━━━━━━━━━━━━━━━\u001b[0m\u001b[37m━\u001b[0m \u001b[1m0s\u001b[0m 52ms/step - accuracy: 0.8978 - loss: 0.3016\n",
            "Epoch 12: val_loss did not improve from 0.24051\n",
            "\u001b[1m591/591\u001b[0m \u001b[32m━━━━━━━━━━━━━━━━━━━━\u001b[0m\u001b[37m\u001b[0m \u001b[1m34s\u001b[0m 57ms/step - accuracy: 0.8978 - loss: 0.3016 - val_accuracy: 0.8974 - val_loss: 0.3009 - learning_rate: 5.0000e-04\n",
            "Epoch 13/50\n",
            "\u001b[1m591/591\u001b[0m \u001b[32m━━━━━━━━━━━━━━━━━━━━\u001b[0m\u001b[37m\u001b[0m \u001b[1m0s\u001b[0m 57ms/step - accuracy: 0.9011 - loss: 0.3070\n",
            "Epoch 13: val_loss did not improve from 0.24051\n",
            "\u001b[1m591/591\u001b[0m \u001b[32m━━━━━━━━━━━━━━━━━━━━\u001b[0m\u001b[37m\u001b[0m \u001b[1m36s\u001b[0m 61ms/step - accuracy: 0.9011 - loss: 0.3069 - val_accuracy: 0.9115 - val_loss: 0.2822 - learning_rate: 5.0000e-04\n"
          ]
        }
      ]
    },
    {
      "cell_type": "markdown",
      "source": [
        "# TRÉNOVÁNÍ MODELU\n"
      ],
      "metadata": {
        "id": "aHx-RrpNza2f"
      }
    },
    {
      "cell_type": "markdown",
      "source": [
        "#Ukládání modelu\n"
      ],
      "metadata": {
        "id": "QsWG_k5V84tv"
      }
    },
    {
      "cell_type": "markdown",
      "source": [
        "# Vyhodnocení modelu\n",
        "\n"
      ],
      "metadata": {
        "id": "Imzk-MFmztBH"
      }
    },
    {
      "cell_type": "markdown",
      "source": [
        "# Analýza chyb\n",
        "\n"
      ],
      "metadata": {
        "id": "iGNtGaoGz3X-"
      }
    },
    {
      "cell_type": "markdown",
      "source": [
        "# Shrnutí výsledků\n"
      ],
      "metadata": {
        "id": "0_bmOEMTz9CU"
      }
    },
    {
      "cell_type": "markdown",
      "source": [
        "# Závěr\n",
        "Shrnutí celého procesu: od přípravy datasetu po analýzu výsledků.\n",
        "Možnosti aplikace modelu v praxi (např. monitoring změn krajiny, urbanizace).\n",
        "Doporučení pro budoucí vylepšení modelu."
      ],
      "metadata": {
        "id": "ycba8x0r0EQH"
      }
    },
    {
      "cell_type": "code",
      "source": [],
      "metadata": {
        "id": "rsZL9G0_pqYU"
      },
      "execution_count": null,
      "outputs": []
    },
    {
      "cell_type": "markdown",
      "source": [
        "\n"
      ],
      "metadata": {
        "id": "ieEItJE4gH-L"
      }
    }
  ]
}